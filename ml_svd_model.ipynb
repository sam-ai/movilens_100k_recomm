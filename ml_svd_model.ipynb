{
  "nbformat": 4,
  "nbformat_minor": 0,
  "metadata": {
    "colab": {
      "name": "ml_svd_model.ipynb",
      "provenance": []
    },
    "kernelspec": {
      "name": "python3",
      "display_name": "Python 3"
    }
  },
  "cells": [
    {
      "cell_type": "code",
      "metadata": {
        "id": "cAZ5rclvhK2c",
        "colab_type": "code",
        "colab": {}
      },
      "source": [
        "import numpy as np\n",
        "import pandas as pd\n",
        "\n",
        "r_cols = ['userId' ,'movieId' ,'rating' ,'timestamp']\n",
        "ratings = pd.read_csv('data/ml-100k/u.data', sep='\\t', names=r_cols,\n",
        "                      encoding='latin-1')\n",
        "\n",
        "# the movies file contains columns indicating the movie's genres\n",
        "# let's only load the first five columns of the file with usecols\n",
        "m_cols = ['movieId', 'title', 'release_date', 'video_release_date', 'imdb_url']\n",
        "movies = pd.read_csv('data/ml-100k/u.item', sep='|', names=m_cols, usecols=range(5),\n",
        "                     encoding='latin-1')"
      ],
      "execution_count": 4,
      "outputs": []
    },
    {
      "cell_type": "code",
      "metadata": {
        "id": "01KpzTjVh0Ik",
        "colab_type": "code",
        "colab": {
          "base_uri": "https://localhost:8080/",
          "height": 118
        },
        "outputId": "ae3010cc-02ba-4549-9046-977f521eb90f"
      },
      "source": [
        "print(ratings.head())"
      ],
      "execution_count": 32,
      "outputs": [
        {
          "output_type": "stream",
          "text": [
            "   userId  movieId  rating  timestamp\n",
            "0     196      242       3  881250949\n",
            "1     186      302       3  891717742\n",
            "2      22      377       1  878887116\n",
            "3     244       51       2  880606923\n",
            "4     166      346       1  886397596\n"
          ],
          "name": "stdout"
        }
      ]
    },
    {
      "cell_type": "code",
      "metadata": {
        "id": "tiexjSodh3mK",
        "colab_type": "code",
        "colab": {
          "base_uri": "https://localhost:8080/",
          "height": 302
        },
        "outputId": "b85f0bc0-93b0-4dde-e8d0-0c6d1814ba78"
      },
      "source": [
        "rts_gp = ratings.groupby(by=['rating']).agg({'userId': 'count'}).reset_index()\n",
        "rts_gp.columns = ['Rating', 'Count']\n",
        "\n",
        "plt.barh(rts_gp.Rating, rts_gp.Count, color='royalblue')\n",
        "plt.title('Overall Count of Ratings', fontsize=15)\n",
        "plt.xlabel('Count', fontsize=15)\n",
        "plt.ylabel('Rating', fontsize=15)\n",
        "plt.grid(ls='dotted')\n",
        "plt.show()"
      ],
      "execution_count": 6,
      "outputs": [
        {
          "output_type": "display_data",
          "data": {
            "image/png": "[encoded data removed]",
            "text/plain": [
              "<Figure size 432x288 with 1 Axes>"
            ]
          },
          "metadata": {
            "tags": [],
            "needs_background": "light"
          }
        }
      ]
    },
    {
      "cell_type": "code",
      "metadata": {
        "id": "wkX0P7uNiAtm",
        "colab_type": "code",
        "colab": {
          "base_uri": "https://localhost:8080/",
          "height": 151
        },
        "outputId": "fb06c064-11de-4248-daff-0870e9cdc7d6"
      },
      "source": [
        "print(movies.head())"
      ],
      "execution_count": 31,
      "outputs": [
        {
          "output_type": "stream",
          "text": [
            "   movieId  ...                                           imdb_url\n",
            "0        1  ...  http://us.imdb.com/M/title-exact?Toy%20Story%2...\n",
            "1        2  ...  http://us.imdb.com/M/title-exact?GoldenEye%20(...\n",
            "2        3  ...  http://us.imdb.com/M/title-exact?Four%20Rooms%...\n",
            "3        4  ...  http://us.imdb.com/M/title-exact?Get%20Shorty%...\n",
            "4        5  ...  http://us.imdb.com/M/title-exact?Copycat%20(1995)\n",
            "\n",
            "[5 rows x 5 columns]\n"
          ],
          "name": "stdout"
        }
      ]
    },
    {
      "cell_type": "code",
      "metadata": {
        "id": "H1C7dqjUiE2T",
        "colab_type": "code",
        "colab": {
          "base_uri": "https://localhost:8080/",
          "height": 34
        },
        "outputId": "cd106ef4-8304-401f-c8c1-921b58454b49"
      },
      "source": [
        "n_users = ratings.userId.unique().shape[0]\n",
        "n_movies = ratings.movieId.unique().shape[0]\n",
        "print('Number of users = ' + str(n_users) + ' | Number of movies = ' + str(n_movies))"
      ],
      "execution_count": 8,
      "outputs": [
        {
          "output_type": "stream",
          "text": [
            "Number of users = 943 | Number of movies = 1682\n"
          ],
          "name": "stdout"
        }
      ]
    },
    {
      "cell_type": "code",
      "metadata": {
        "id": "_qBdHMr_iJLW",
        "colab_type": "code",
        "colab": {
          "base_uri": "https://localhost:8080/",
          "height": 168
        },
        "outputId": "0823052d-74b2-4b96-9b7b-59a86df29e5c"
      },
      "source": [
        "Ratings = ratings.pivot(index = 'userId', columns ='movieId', values = 'rating').fillna(0)\n",
        "print(Ratings.head())"
      ],
      "execution_count": 30,
      "outputs": [
        {
          "output_type": "stream",
          "text": [
            "movieId  1     2     3     4     5     6     ...  1677  1678  1679  1680  1681  1682\n",
            "userId                                       ...                                    \n",
            "1         5.0   3.0   4.0   3.0   3.0   5.0  ...   0.0   0.0   0.0   0.0   0.0   0.0\n",
            "2         4.0   0.0   0.0   0.0   0.0   0.0  ...   0.0   0.0   0.0   0.0   0.0   0.0\n",
            "3         0.0   0.0   0.0   0.0   0.0   0.0  ...   0.0   0.0   0.0   0.0   0.0   0.0\n",
            "4         0.0   0.0   0.0   0.0   0.0   0.0  ...   0.0   0.0   0.0   0.0   0.0   0.0\n",
            "5         4.0   3.0   0.0   0.0   0.0   0.0  ...   0.0   0.0   0.0   0.0   0.0   0.0\n",
            "\n",
            "[5 rows x 1682 columns]\n"
          ],
          "name": "stdout"
        }
      ]
    },
    {
      "cell_type": "code",
      "metadata": {
        "id": "vb75YuAmiOjf",
        "colab_type": "code",
        "colab": {}
      },
      "source": [
        "R = Ratings.values\n",
        "user_ratings_mean = np.mean(R, axis = 1)\n",
        "Ratings_demeaned = R - user_ratings_mean.reshape(-1, 1)"
      ],
      "execution_count": 10,
      "outputs": []
    },
    {
      "cell_type": "code",
      "metadata": {
        "id": "Nu6pq4UPiXHZ",
        "colab_type": "code",
        "colab": {
          "base_uri": "https://localhost:8080/",
          "height": 34
        },
        "outputId": "f801566b-0099-4cd7-88cd-550f3c388ba5"
      },
      "source": [
        "sparsity = round(1.0 - len(ratings) / float(n_users * n_movies), 3)\n",
        "print('The sparsity level of MovieLens1M dataset is ' +  str(sparsity * 100) + '%')"
      ],
      "execution_count": 11,
      "outputs": [
        {
          "output_type": "stream",
          "text": [
            "The sparsity level of MovieLens1M dataset is 93.7%\n"
          ],
          "name": "stdout"
        }
      ]
    },
    {
      "cell_type": "code",
      "metadata": {
        "id": "IHxmE0Fei0Rn",
        "colab_type": "code",
        "colab": {}
      },
      "source": [
        "from scipy.sparse.linalg import svds\n",
        "\n",
        "U, sigma, Vt = svds(Ratings_demeaned, k = 50)"
      ],
      "execution_count": 12,
      "outputs": []
    },
    {
      "cell_type": "code",
      "metadata": {
        "id": "8zj_pYXwi5jW",
        "colab_type": "code",
        "colab": {}
      },
      "source": [
        "sigma = np.diag(sigma)"
      ],
      "execution_count": 13,
      "outputs": []
    },
    {
      "cell_type": "code",
      "metadata": {
        "id": "vGolokFOi9vt",
        "colab_type": "code",
        "colab": {}
      },
      "source": [
        "all_user_predicted_ratings = np.dot(np.dot(U, sigma), Vt) + user_ratings_mean.reshape(-1, 1)"
      ],
      "execution_count": 14,
      "outputs": []
    },
    {
      "cell_type": "code",
      "metadata": {
        "id": "m9u7k5zQjATp",
        "colab_type": "code",
        "colab": {
          "base_uri": "https://localhost:8080/",
          "height": 34
        },
        "outputId": "50950bd5-8d5b-48e5-a0a2-8953fcb12daa"
      },
      "source": [
        "all_user_predicted_ratings.shape"
      ],
      "execution_count": 15,
      "outputs": [
        {
          "output_type": "execute_result",
          "data": {
            "text/plain": [
              "(943, 1682)"
            ]
          },
          "metadata": {
            "tags": []
          },
          "execution_count": 15
        }
      ]
    },
    {
      "cell_type": "code",
      "metadata": {
        "id": "dtyJp2EjjDXo",
        "colab_type": "code",
        "colab": {
          "base_uri": "https://localhost:8080/",
          "height": 151
        },
        "outputId": "4eea17af-0645-48a5-d70f-4be175bc611b"
      },
      "source": [
        "preds = pd.DataFrame(all_user_predicted_ratings, columns = Ratings.columns)\n",
        "print(preds.head())"
      ],
      "execution_count": 29,
      "outputs": [
        {
          "output_type": "stream",
          "text": [
            "movieId      1         2         3     ...      1680      1681      1682\n",
            "0        6.488436  2.959503  1.634987  ... -0.037434 -0.025552  0.023513\n",
            "1        2.347262  0.129689 -0.098917  ... -0.011760  0.011639 -0.046924\n",
            "2        0.291905 -0.263830 -0.151454  ...  0.017322 -0.006644 -0.009480\n",
            "3        0.366410 -0.443535  0.041151  ...  0.029984  0.015612 -0.008713\n",
            "4        4.263488  1.937122  0.052529  ...  0.007603 -0.020575  0.003330\n",
            "\n",
            "[5 rows x 1682 columns]\n"
          ],
          "name": "stdout"
        }
      ]
    },
    {
      "cell_type": "code",
      "metadata": {
        "id": "zr2FXawHjJsc",
        "colab_type": "code",
        "colab": {}
      },
      "source": [
        "def recommend_movies(predictions, userID, movies, original_ratings, num_recommendations):\n",
        "    \n",
        "    # Get and sort the user's predictions\n",
        "    user_row_number = userID - 1 # User ID starts at 1, not 0\n",
        "    sorted_user_predictions = preds.iloc[user_row_number].sort_values(ascending=False) # User ID starts at 1\n",
        "    \n",
        "    # Get the user's data and merge in the movie information.\n",
        "    user_data = original_ratings[original_ratings.userId == (userID)]\n",
        "    user_full = (user_data.merge(movies, how = 'left', left_on = 'movieId', right_on = 'movieId').\n",
        "                     sort_values(['rating'], ascending=False)\n",
        "                 )\n",
        "\n",
        "    print('User {0} has already rated {1} movies.'.format(userID, user_full.shape[0]))\n",
        "    print('Recommending highest {0} predicted ratings movies not already rated.'.format(num_recommendations))\n",
        "    \n",
        "    # Recommend the highest predicted rating movies that the user hasn't seen yet.\n",
        "    recommendations = (movies[~movies['movieId'].isin(user_full['movieId'])].\n",
        "         merge(pd.DataFrame(sorted_user_predictions).reset_index(), how = 'left',\n",
        "               left_on = 'movieId',\n",
        "               right_on = 'movieId').\n",
        "         rename(columns = {user_row_number: 'Predictions'}).\n",
        "         sort_values('Predictions', ascending = False).\n",
        "                       iloc[:num_recommendations, :-1]\n",
        "                      )\n",
        "\n",
        "    return user_full, recommendations"
      ],
      "execution_count": 17,
      "outputs": []
    },
    {
      "cell_type": "code",
      "metadata": {
        "id": "TPLiHuu1jYa7",
        "colab_type": "code",
        "colab": {
          "base_uri": "https://localhost:8080/",
          "height": 50
        },
        "outputId": "fb9bc55f-a52b-41c1-9442-633101793f9e"
      },
      "source": [
        "# Number of users = 943\n",
        "already_rated, predictions = recommend_movies(preds, 469, movies, ratings, 20)"
      ],
      "execution_count": 18,
      "outputs": [
        {
          "output_type": "stream",
          "text": [
            "User 469 has already rated 43 movies.\n",
            "Recommending highest 20 predicted ratings movies not already rated.\n"
          ],
          "name": "stdout"
        }
      ]
    },
    {
      "cell_type": "code",
      "metadata": {
        "id": "wmzsRGFmjgzD",
        "colab_type": "code",
        "colab": {
          "base_uri": "https://localhost:8080/",
          "height": 370
        },
        "outputId": "719e6ca3-f650-4380-fc40-b9fbd806e1b6"
      },
      "source": [
        "# Top 20 movies that User 469 has rated \n",
        "print(already_rated[[\"userId\", \"movieId\", \"rating\", \"title\"]].head(20))"
      ],
      "execution_count": 28,
      "outputs": [
        {
          "output_type": "stream",
          "text": [
            "    userId  movieId  rating                                              title\n",
            "0      469      513       5                              Third Man, The (1949)\n",
            "15     469      923       5                       Raise the Red Lantern (1991)\n",
            "39     469      607       5                                     Rebecca (1940)\n",
            "36     469      603       5                                 Rear Window (1954)\n",
            "34     469      507       5                   Streetcar Named Desire, A (1951)\n",
            "31     469      474       5  Dr. Strangelove or: How I Learned to Stop Worr...\n",
            "30     469      286       5                        English Patient, The (1996)\n",
            "28     469      490       5                            To Catch a Thief (1955)\n",
            "27     469      511       5                          Lawrence of Arabia (1962)\n",
            "26     469      582       5                                  Piano, The (1993)\n",
            "24     469       64       5                   Shawshank Redemption, The (1994)\n",
            "23     469      611       5                                       Laura (1944)\n",
            "20     469      483       5                                  Casablanca (1942)\n",
            "19     469      495       5                 Around the World in 80 Days (1956)\n",
            "16     469      705       5                         Singin' in the Rain (1952)\n",
            "21     469      656       5                                           M (1931)\n",
            "42     469      487       5                               Roman Holiday (1953)\n",
            "13     469     1558       5                                   Aparajito (1956)\n",
            "12     469       10       5                                 Richard III (1995)\n",
            "2      469      499       5                       Cat on a Hot Tin Roof (1958)\n"
          ],
          "name": "stdout"
        }
      ]
    },
    {
      "cell_type": "code",
      "metadata": {
        "id": "FBnbSyK9jkwq",
        "colab_type": "code",
        "colab": {
          "base_uri": "https://localhost:8080/",
          "height": 370
        },
        "outputId": "ea0a655b-0646-44f5-e757-988d304ca342"
      },
      "source": [
        "# Top 20 movies that User 469 hopefully will enjoy\n",
        "print(predictions[[\"movieId\",\t\"title\",\t\"release_date\"]])"
      ],
      "execution_count": 23,
      "outputs": [
        {
          "output_type": "stream",
          "text": [
            "     movieId                                      title release_date\n",
            "461      480                  North by Northwest (1959)  01-Jan-1959\n",
            "460      479                             Vertigo (1958)  01-Jan-1958\n",
            "166      178                        12 Angry Men (1957)  01-Jan-1957\n",
            "485      514                          Annie Hall (1977)  01-Jan-1977\n",
            "472      496               It's a Wonderful Life (1946)  01-Jan-1946\n",
            "417      435  Butch Cassidy and the Sundance Kid (1969)  01-Jan-1969\n",
            "409      427               To Kill a Mockingbird (1962)  01-Jan-1962\n",
            "617      657           Manchurian Candidate, The (1962)  01-Jan-1962\n",
            "463      482                    Some Like It Hot (1959)  01-Jan-1959\n",
            "459      478             Philadelphia Story, The (1940)  01-Jan-1940\n",
            "495      525                      Big Sleep, The (1946)  01-Jan-1946\n",
            "578      615                       39 Steps, The (1935)  01-Jan-1935\n",
            "179      191                             Amadeus (1984)  01-Jan-1984\n",
            "474      498                  African Queen, The (1951)  01-Jan-1951\n",
            "470      493                       Thin Man, The (1934)  01-Jan-1934\n",
            "621      661                           High Noon (1952)  01-Jan-1952\n",
            "127      132                   Wizard of Oz, The (1939)  01-Jan-1939\n",
            "412      430                           Duck Soup (1933)  01-Jan-1933\n",
            "490      519   Treasure of the Sierra Madre, The (1948)  01-Jan-1948\n",
            "571      604               It Happened One Night (1934)  01-Jan-1934\n"
          ],
          "name": "stdout"
        }
      ]
    },
    {
      "cell_type": "code",
      "metadata": {
        "id": "RL110MCRjoMk",
        "colab_type": "code",
        "colab": {}
      },
      "source": [
        ""
      ],
      "execution_count": null,
      "outputs": []
    },
    {
      "cell_type": "code",
      "metadata": {
        "id": "TA7jmwsQ-wM9",
        "colab_type": "code",
        "colab": {}
      },
      "source": [
        ""
      ],
      "execution_count": null,
      "outputs": []
    },
    {
      "cell_type": "code",
      "metadata": {
        "id": "m6I5OyOX-wZe",
        "colab_type": "code",
        "colab": {}
      },
      "source": [
        ""
      ],
      "execution_count": null,
      "outputs": []
    },
    {
      "cell_type": "code",
      "metadata": {
        "id": "jrUn7PGd-wjV",
        "colab_type": "code",
        "colab": {}
      },
      "source": [
        ""
      ],
      "execution_count": null,
      "outputs": []
    },
    {
      "cell_type": "code",
      "metadata": {
        "id": "CrL7PG8k-wrx",
        "colab_type": "code",
        "colab": {}
      },
      "source": [
        ""
      ],
      "execution_count": null,
      "outputs": []
    },
    {
      "cell_type": "code",
      "metadata": {
        "id": "Dwp8gO8P-w0I",
        "colab_type": "code",
        "colab": {}
      },
      "source": [
        "# Import libraries from Surprise package\n",
        "from surprise import Reader, Dataset, SVD, evaluate\n",
        "\n",
        "# Load Reader library\n",
        "reader = Reader()\n",
        "\n",
        "# Load ratings dataset with Dataset library\n",
        "data = Dataset.load_from_df(ratings[['user_id', 'movie_id', 'rating']], reader)\n",
        "\n",
        "# Split the dataset for 5-fold evaluation\n",
        "data.split(n_folds=5)"
      ],
      "execution_count": null,
      "outputs": []
    }
  ]
}